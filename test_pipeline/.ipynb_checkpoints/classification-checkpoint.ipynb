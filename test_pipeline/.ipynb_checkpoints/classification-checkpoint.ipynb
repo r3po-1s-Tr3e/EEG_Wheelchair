{
 "cells": [
  {
   "cell_type": "code",
   "execution_count": 48,
   "id": "92a0a1db",
   "metadata": {},
   "outputs": [
    {
     "name": "stdout",
     "output_type": "stream",
     "text": [
      "[19  7 13 25  1 23 17  5 11 18]\n",
      "t  h  n  z  b  x  r  f  l  s  \n",
      "\n",
      "[23 19 17 13 25 11  7  1  5 18]\n",
      "x  t  r  n  z  l  h  b  f  s  "
     ]
    }
   ],
   "source": [
    "import scipy.io as sio\n",
    "import numpy as np\n",
    "import matplotlib.pyplot as plt\n",
    "\n",
    "letters=['a','b','c','d','e','f','g','h','i','j','k','l','m','n','o','p','q','r','s','t','u','v','w','x','y','z']\n",
    "\n",
    "mat_contents = sio.loadmat('mat_files/vinay_j.mat')\n",
    "d = mat_contents['ALLERP']['bindata'][0][0][3]\n",
    "b=[]\n",
    "for j in range(26):\n",
    "  temp = []\n",
    "  for i in range(300,600):\n",
    "    temp.append(d[i][2*j]-d[i][2*j+1])\n",
    "  b.append(temp)\n",
    "\n",
    "###########peak_array############\n",
    "peak_array = []\n",
    "for i in range(26):\n",
    "  peak_array.append(max(b[i]))\n",
    "\n",
    "peak_array = np.array(peak_array)\n",
    "\n",
    "res = peak_array.argsort()[-10:][::-1]\n",
    "print(res)\n",
    "# print('peak_array',peak_array)\n",
    "\n",
    "for i in range(len(res)):\n",
    "    print(letters[res[i]],end=\"  \")\n",
    "print('\\n')\n",
    "###########avg_array###########\n",
    "\n",
    "\n",
    "avg_array = []\n",
    "for i in range(26):\n",
    "  avg_array.append(sum(b[i])/400) \n",
    "# print('avg_array',avg_array)\n",
    "\n",
    "avg_array = np.array(avg_array)\n",
    "\n",
    "res = avg_array.argsort()[-10:][::-1]\n",
    "print(res)\n",
    "\n",
    "\n",
    "# print(letters[np.argmax(peak_array)],letters[np.argmax(avg_array)])\n",
    "\n",
    "for i in range(len(res)):\n",
    "    print(letters[res[i]],end=\"  \")"
   ]
  }
 ],
 "metadata": {
  "kernelspec": {
   "display_name": "Python 3 (ipykernel)",
   "language": "python",
   "name": "python3"
  },
  "language_info": {
   "codemirror_mode": {
    "name": "ipython",
    "version": 3
   },
   "file_extension": ".py",
   "mimetype": "text/x-python",
   "name": "python",
   "nbconvert_exporter": "python",
   "pygments_lexer": "ipython3",
   "version": "3.7.13"
  }
 },
 "nbformat": 4,
 "nbformat_minor": 5
}
