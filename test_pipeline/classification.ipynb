{
 "cells": [
  {
   "cell_type": "code",
   "execution_count": 74,
   "id": "92a0a1db",
   "metadata": {},
   "outputs": [
    {
     "name": "stdout",
     "output_type": "stream",
     "text": [
      "[15  9  3 21  8 11  6  5  0 25]\n",
      "p  j  d  v  i  l  g  f  a  z  \n",
      "\n",
      "[ 0  6  4  2  5  3 10 18  8 11  9 22  1 20 23]\n",
      "a  g  e  c  f  d  k  s  i  l  j  w  b  u  x  "
     ]
    }
   ],
   "source": [
    "import scipy.io as sio\n",
    "import numpy as np\n",
    "import matplotlib.pyplot as plt\n",
    "\n",
    "letters=['a','b','c','d','e','f','g','h','i','j','k','l','m','n','o','p','q','r','s','t','u','v','w','x','y','z']\n",
    "\n",
    "mat_contents = sio.loadmat('mat_files/vinay_u.mat')\n",
    "# d = mat_contents['ALLERP']['bindata'][0][0][3]\n",
    "d = mat_contents['bindata'][3]\n",
    "\n",
    "b=[]\n",
    "for j in range(26):\n",
    "  temp = []\n",
    "  for i in range(300,600):\n",
    "    temp.append(d[i][2*j]-d[i][2*j+1])\n",
    "  b.append(temp)\n",
    "\n",
    "###########peak_array############\n",
    "peak_array = []\n",
    "for i in range(26):\n",
    "  peak_array.append(max(b[i]))\n",
    "\n",
    "peak_array = np.array(peak_array)\n",
    "\n",
    "res = peak_array.argsort()[-10:][::-1]\n",
    "print(res)\n",
    "# print('peak_array',peak_array)\n",
    "\n",
    "for i in range(len(res)):\n",
    "    print(letters[res[i]],end=\"  \")\n",
    "print('\\n')\n",
    "###########avg_array###########\n",
    "\n",
    "\n",
    "avg_array = []\n",
    "for i in range(26):\n",
    "  avg_array.append(sum(b[i])/400) \n",
    "# print('avg_array',avg_array)\n",
    "\n",
    "avg_array = np.array(avg_array)\n",
    "\n",
    "res = avg_array.argsort()[-15:][::-1]\n",
    "print(res)\n",
    "\n",
    "\n",
    "# print(letters[np.argmax(peak_array)],letters[np.argmax(avg_array)])\n",
    "\n",
    "for i in range(len(res)):\n",
    "    print(letters[res[i]],end=\"  \")"
   ]
  }
 ],
 "metadata": {
  "kernelspec": {
   "display_name": "Python 3 (ipykernel)",
   "language": "python",
   "name": "python3"
  },
  "language_info": {
   "codemirror_mode": {
    "name": "ipython",
    "version": 3
   },
   "file_extension": ".py",
   "mimetype": "text/x-python",
   "name": "python",
   "nbconvert_exporter": "python",
   "pygments_lexer": "ipython3",
   "version": "3.7.13"
  }
 },
 "nbformat": 4,
 "nbformat_minor": 5
}
